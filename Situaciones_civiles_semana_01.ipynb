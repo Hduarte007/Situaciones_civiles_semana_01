{
  "nbformat": 4,
  "nbformat_minor": 0,
  "metadata": {
    "colab": {
      "provenance": [],
      "authorship_tag": "ABX9TyNc/Znf2RtIk8LVQMJ4kBiH",
      "include_colab_link": true
    },
    "kernelspec": {
      "name": "python3",
      "display_name": "Python 3"
    },
    "language_info": {
      "name": "python"
    }
  },
  "cells": [
    {
      "cell_type": "markdown",
      "metadata": {
        "id": "view-in-github",
        "colab_type": "text"
      },
      "source": [
        "<a href=\"https://colab.research.google.com/github/Hduarte007/Situaciones_civiles_semana_01/blob/main/Situaciones_civiles_semana_01.ipynb\" target=\"_parent\"><img src=\"https://colab.research.google.com/assets/colab-badge.svg\" alt=\"Open In Colab\"/></a>"
      ]
    },
    {
      "cell_type": "markdown",
      "source": [],
      "metadata": {
        "id": "nmUvssBcHuCt"
      }
    },
    {
      "cell_type": "markdown",
      "source": [
        "#Situación de Interés en Ingeniería Agrícola :\n",
        "\n",
        "Un agricultor necesita saber cuántos kilogramos\n",
        "de semilla de maíz debe comprar para sembrar un lote rectangular. Conoce la densidad de siembra\n",
        "recomendada (kg por hectárea) y las dimensiones del lote (largo y ancho en metros)."
      ],
      "metadata": {
        "id": "YlLDBVXkHvvo"
      }
    },
    {
      "cell_type": "code",
      "execution_count": null,
      "metadata": {
        "id": "ZvTLlHdzGt3J"
      },
      "outputs": [],
      "source": [
        " # Cálculo de Semillas\n",
        " #  1. Saludar al usuario y explicar qué hace el programa.\n",
        " print(\"Bienvenido al calculo de semillas\")\n",
        "\n",
        " #  2. Pedir al usuario que ingrese el largo del lote en metros (input sin conversion).\n",
        " largo = float(input(\"Ingrese el largo del lote en metros: \"))\n",
        "\n",
        " #  3. Pedir el ancho del lote en metros (input sin conversion).9\n",
        " ancho = float(input(\"Ingrese el ancho del lote en metros: \"))\n",
        "\n",
        " # 4. Pedir la densidad de siembra en kg/hectárea (input).\n",
        " densidad = float(input(\"Ingrese la densidad de siembra en kg/hectárea: \"))\n",
        "\n",
        " # 5. Convertir las entradas de texto a números decimales (float)\n",
        " largo = float(largo)\n",
        " ancho = float(ancho)\n",
        " densidad = float(densidad)\n",
        "\n",
        " #  6. Calcular el área en metros cuadrados (largo * ancho).\n",
        " area = largo * ancho\n",
        "\n",
        "# 7. Convertir el área a hectáreas (1 hectárea = 10,000 m²).\n",
        "area = area / 10000\n",
        "\n",
        "# 8. Calcular la cantidad total de semilla (área en hectáreas * densidad)\n",
        "semilla = area * densidad\n",
        "\n",
        " # 9. Mostrar el resultado final al usuario\n",
        " print(\"La cantidad total de semillas a comprar es:\", semilla, \"kg\")"
      ]
    },
    {
      "cell_type": "markdown",
      "metadata": {
        "id": "fd811bd1"
      },
      "source": [
        "Aquí está la explicación línea por línea del código:"
      ]
    },
    {
      "cell_type": "code",
      "metadata": {
        "id": "3d77cbc5"
      },
      "source": [
        "#  2. Pedir al usuario que ingrese el largo del lote en metros (input sin conversion).\n",
        "largo = float(input(\"Ingrese el largo del lote en metros: \"))"
      ],
      "execution_count": null,
      "outputs": []
    },
    {
      "cell_type": "code",
      "metadata": {
        "id": "8936b4a9"
      },
      "source": [
        "#  3. Pedir el ancho del lote en metros (input sin conversion).9\n",
        "ancho = float(input(\"Ingrese el ancho del lote en metros: \"))"
      ],
      "execution_count": null,
      "outputs": []
    },
    {
      "cell_type": "code",
      "metadata": {
        "id": "92d8a354"
      },
      "source": [
        "# 4. Pedir la densidad de siembra en kg/hectárea (input).\n",
        "densidad = float(input(\"Ingrese la densidad de siembra en kg/hectárea: \"))"
      ],
      "execution_count": null,
      "outputs": []
    },
    {
      "cell_type": "code",
      "metadata": {
        "id": "cd3c9ebb"
      },
      "source": [
        "# 5. Convertir las entradas de texto a números decimales (float)\n",
        "largo = float(largo)\n",
        "ancho = float(ancho)\n",
        "densidad = float(densidad)"
      ],
      "execution_count": null,
      "outputs": []
    },
    {
      "cell_type": "code",
      "metadata": {
        "id": "d4ed016d"
      },
      "source": [
        "#  6. Calcular el área en metros cuadrados (largo * ancho).\n",
        "area = largo * ancho"
      ],
      "execution_count": null,
      "outputs": []
    },
    {
      "cell_type": "code",
      "metadata": {
        "id": "05af5507"
      },
      "source": [
        "# 7. Convertir el área a hectáreas (1 hectárea = 10,000 m²).\n",
        "area = area / 10000"
      ],
      "execution_count": null,
      "outputs": []
    },
    {
      "cell_type": "code",
      "metadata": {
        "id": "2ffd3d79"
      },
      "source": [
        "# 8. Calcular la cantidad total de semilla (área en hectáreas * densidad)\n",
        "semilla = area * densidad"
      ],
      "execution_count": null,
      "outputs": []
    },
    {
      "cell_type": "code",
      "metadata": {
        "id": "02cb473c"
      },
      "source": [
        "# 9. Mostrar el resultado final al usuario\n",
        "print(\"La cantidad total de semillas a comprar es:\", semilla, \"kg\")"
      ],
      "execution_count": null,
      "outputs": []
    }
  ]
}